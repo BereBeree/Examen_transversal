{
  "nbformat": 4,
  "nbformat_minor": 0,
  "metadata": {
    "colab": {
      "provenance": []
    },
    "kernelspec": {
      "name": "python3",
      "display_name": "Python 3"
    },
    "language_info": {
      "name": "python"
    }
  },
  "cells": [
    {
      "cell_type": "code",
      "execution_count": 179,
      "metadata": {
        "id": "GWGdlu58NRw_"
      },
      "outputs": [],
      "source": [
        "import numpy as np\n",
        "fila = 10\n",
        "columna = 10\n",
        "asiento = np.zeros((fila,columna), dtype = int)\n",
        "valores = [120000,80000,50000]\n",
        "tipo_entrada = ['Platinum','Gold','Silver']\n",
        "lista = ['Comprar entrada','Mostrar ubicaciones disponibles','Ver listado asistentes','Mostrar ganancias totales','Salir']\n",
        "asistentes = []\n",
        "total_pagar=[]"
      ]
    },
    {
      "cell_type": "code",
      "source": [
        "def salir ():\n",
        "  print('¡Gracias por visitarnos!')\n",
        "  print('Berenice Martínez 11.07.2023')"
      ],
      "metadata": {
        "id": "a_9NsU_bOBEC"
      },
      "execution_count": 180,
      "outputs": []
    },
    {
      "cell_type": "code",
      "source": [
        "def comprar_entrada(run,nombre):\n",
        "  global total_pagar\n",
        "  while True:\n",
        "    print('Seleccione su asiento, considere cómo fila el 1er número y columna el 2do ')\n",
        "    print('Los multiplos de 10 pertenecen a la fila anterior, ejemplo 20 es la fila 1 y columna 10')\n",
        "    fila = int(input(f'Ingrese la fila de la entrada {contador}: '))\n",
        "    columna = int(input(f'Ingrese la columna {contador}: '))\n",
        "    asistentes.append(str(run)+' '+nombre+' '+str(fila)+str(columna))\n",
        "    if asiento[fila][columna-1] == 1:\n",
        "      print('No está disponible')\n",
        "      return\n",
        "    else:\n",
        "      asiento[fila][columna-1] = 1\n",
        "      i=1\n",
        "      for filas in range(10):\n",
        "        for columnas in range(10):\n",
        "          if asiento[filas][columnas] == 0:\n",
        "            print(f'{i}', end=' ')\n",
        "            i+=1\n",
        "          else:\n",
        "            print('[XX]', end=' ')\n",
        "        print()\n",
        "      respuesta1 = str(input('¿Es correcto el asiento? [S/N]: ')).upper()\n",
        "      if respuesta1 != 'S' and respuesta1 != 'N':\n",
        "        print('Ingrese sólo S o N')\n",
        "      elif respuesta1 == 'N':\n",
        "        asiento[fila][columna] = 0\n",
        "        return\n",
        "      elif respuesta1 == 'S':\n",
        "        print('¡Asiento reservado con éxito!')\n",
        "        if fila >= 0 and fila <= 1: #Condicional para sumar el valor de la entrada\n",
        "          total_pagar.append(valores[0])\n",
        "        elif fila >=2 and fila <= 4:\n",
        "          total_pagar.append(valores[1])\n",
        "        elif fila >= 5 and fila <= 10:\n",
        "          total_pagar.append(valores[2])\n",
        "\n",
        "      break\n"
      ],
      "metadata": {
        "id": "RHwjLxVpOzJR"
      },
      "execution_count": 188,
      "outputs": []
    },
    {
      "cell_type": "code",
      "source": [
        "def mostrar_ubicaciones():\n",
        "  i=1\n",
        "  for filas in range(fila):\n",
        "    for columnas in range(columna):\n",
        "      if asiento[filas][columnas] == 0:\n",
        "        print(f'{i}', end=' ')\n",
        "        i+=1\n",
        "      else:\n",
        "        print('XX', end=' ')\n",
        "    print()"
      ],
      "metadata": {
        "id": "zJT5MdzDOfmk"
      },
      "execution_count": 183,
      "outputs": []
    },
    {
      "cell_type": "code",
      "source": [
        "def listado_asistentes():\n",
        "  asistentes.sort()\n",
        "  i = 0\n",
        "  for j in asistentes:\n",
        "    print(asistentes[i])\n",
        "    i+=1"
      ],
      "metadata": {
        "id": "GuW42CgPOjLF"
      },
      "execution_count": 184,
      "outputs": []
    },
    {
      "cell_type": "code",
      "source": [
        "def mostrar_ganancias():\n",
        "  platinum = 0\n",
        "  gold = 0\n",
        "  silver = 0\n",
        "  lista_entradas = [platinum,gold,silver]\n",
        "  for filas in range(fila):\n",
        "    for columnas in range(columna):\n",
        "      if fila >= 0 and fila <= 1:\n",
        "        if asiento[filas][columnas] == 1:\n",
        "          platinum+=1\n",
        "      elif fila >= 2 and fila <= 4:\n",
        "        if asiento[filas][columnas] == 1:\n",
        "          gold += 1\n",
        "      elif fila >=5 and fila <= 10:\n",
        "        if asiento[filas][columnas] == 1:\n",
        "          silver += 1\n",
        "  i = 0\n",
        "  print('Tipo entrada | Cantidad | Total')\n",
        "  for entradas in valores:\n",
        "    print(f'{tipo_entrada[(i)]} ${valores[(i)]} | {lista_entradas[(i)]} | {valores[(i)]*lista_entradas[(i)] }')\n",
        "    i+=1\n",
        "#{ }"
      ],
      "metadata": {
        "id": "vsfxUOZJOmGP"
      },
      "execution_count": 185,
      "outputs": []
    },
    {
      "cell_type": "code",
      "source": [
        "def menu():\n",
        "  try:\n",
        "    global contador\n",
        "    global total_pagar\n",
        "    print('Bienvenido a Creativos.cl')\n",
        "    print('Compra de entradas para el concierto de Michael Jam')\n",
        "    while True:\n",
        "      print()\n",
        "      print('A continuación se despliega el menú:')\n",
        "      i=0\n",
        "      for listado in lista:\n",
        "        print(f'{i+1}.- {lista[(i)]}')\n",
        "        i+=1\n",
        "      opcion = int(input('Ingrese el número de la opción a elegir:'))\n",
        "      if opcion == 5:\n",
        "        salir()\n",
        "        break\n",
        "      elif opcion == 1:\n",
        "        while True:\n",
        "          run = int(input('Ingrese su RUN sin puntos ni guión: '))\n",
        "          if len(str(run)) == 8:\n",
        "            nombre = str(input('Ingrese su nombre: '))\n",
        "            cantidad = int(input('Ingrese la cantidad de entradas a comprar: '))\n",
        "            if cantidad > 0 and cantidad <= 3:\n",
        "              contador = 1\n",
        "              for comprar in range(cantidad):\n",
        "                comprar_entrada(run,nombre)\n",
        "                contador+=1\n",
        "              print(f'El total de su compra es {sum(total_pagar)}')\n",
        "            else:\n",
        "              print('Puedes comprar entre 1 y 3 entradas. Vuelve a intentar.')\n",
        "            break\n",
        "          else:\n",
        "            print('Ingrese un total de 8 números')\n",
        "      elif opcion == 2:\n",
        "        mostrar_ubicaciones()\n",
        "      elif opcion == 3:\n",
        "        listado_asistentes()\n",
        "      elif opcion == 4:\n",
        "        mostrar_ganancias()\n",
        "      else:\n",
        "        print('Ingrese un número válido')\n",
        "  except ValueError:\n",
        "    print('Ingrese sólo números')"
      ],
      "metadata": {
        "id": "q2kdtUJOO2jn"
      },
      "execution_count": 186,
      "outputs": []
    },
    {
      "cell_type": "code",
      "source": [
        "menu()"
      ],
      "metadata": {
        "colab": {
          "base_uri": "https://localhost:8080/",
          "height": 1000
        },
        "id": "84p6Bg7VPiVN",
        "outputId": "8dc0127f-39cc-4bd3-b7e6-d7b811a189ba"
      },
      "execution_count": 189,
      "outputs": [
        {
          "output_type": "stream",
          "name": "stdout",
          "text": [
            "Bienvenido a Creativos.cl\n",
            "Compra de entradas para el concierto de Michael Jam\n",
            "\n",
            "A continuación se despliega el menú:\n",
            "1.- Comprar entrada\n",
            "2.- Mostrar ubicaciones disponibles\n",
            "3.- Ver listado asistentes\n",
            "4.- Mostrar ganancias totales\n",
            "5.- Salir\n",
            "Ingrese el número de la opción a elegir:1\n",
            "Ingrese su RUN sin puntos ni guión: 19571823\n",
            "Ingrese su nombre: bere\n",
            "Ingrese la cantidad de entradas a comprar: 1\n",
            "Seleccione su asiento, considere cómo fila el 1er número y columna el 2do \n",
            "Los multiplos de 10 pertenecen a la fila anterior, ejemplo 20 es la fila 1 y columna 10\n",
            "Ingrese la fila de la entrada 1: 1\n",
            "Ingrese la columna 1: 1\n",
            "[XX] 1 2 3 4 5 6 7 8 9 \n",
            "[XX] 10 11 12 13 14 15 16 17 18 \n",
            "19 20 21 22 23 24 25 26 27 28 \n",
            "29 30 31 32 33 34 35 36 37 38 \n",
            "39 40 41 42 43 44 45 46 47 48 \n",
            "49 50 51 52 53 54 55 56 57 58 \n",
            "59 60 61 62 63 64 65 66 67 68 \n",
            "69 70 71 72 73 74 75 76 77 78 \n",
            "79 80 81 82 83 84 85 86 87 88 \n",
            "89 90 91 92 93 94 95 96 97 98 \n",
            "¿Es correcto el asiento? [S/N]: 1\n",
            "Ingrese sólo S o N\n",
            "El total de su compra es 0\n",
            "\n",
            "A continuación se despliega el menú:\n",
            "1.- Comprar entrada\n",
            "2.- Mostrar ubicaciones disponibles\n",
            "3.- Ver listado asistentes\n",
            "4.- Mostrar ganancias totales\n",
            "5.- Salir\n",
            "Ingrese el número de la opción a elegir:1\n",
            "Ingrese su RUN sin puntos ni guión: 19571823\n",
            "Ingrese su nombre: bere\n",
            "Ingrese la cantidad de entradas a comprar: 1\n",
            "Seleccione su asiento, considere cómo fila el 1er número y columna el 2do \n",
            "Los multiplos de 10 pertenecen a la fila anterior, ejemplo 20 es la fila 1 y columna 10\n",
            "Ingrese la fila de la entrada 1: 1\n",
            "Ingrese la columna 1: 1\n",
            "No está disponible\n",
            "El total de su compra es 0\n",
            "\n",
            "A continuación se despliega el menú:\n",
            "1.- Comprar entrada\n",
            "2.- Mostrar ubicaciones disponibles\n",
            "3.- Ver listado asistentes\n",
            "4.- Mostrar ganancias totales\n",
            "5.- Salir\n"
          ]
        },
        {
          "output_type": "error",
          "ename": "KeyboardInterrupt",
          "evalue": "ignored",
          "traceback": [
            "\u001b[0;31m---------------------------------------------------------------------------\u001b[0m",
            "\u001b[0;31mKeyboardInterrupt\u001b[0m                         Traceback (most recent call last)",
            "\u001b[0;32m<ipython-input-189-a554a8713acc>\u001b[0m in \u001b[0;36m<cell line: 1>\u001b[0;34m()\u001b[0m\n\u001b[0;32m----> 1\u001b[0;31m \u001b[0mmenu\u001b[0m\u001b[0;34m(\u001b[0m\u001b[0;34m)\u001b[0m\u001b[0;34m\u001b[0m\u001b[0;34m\u001b[0m\u001b[0m\n\u001b[0m",
            "\u001b[0;32m<ipython-input-186-9af6da674416>\u001b[0m in \u001b[0;36mmenu\u001b[0;34m()\u001b[0m\n\u001b[1;32m     12\u001b[0m         \u001b[0mprint\u001b[0m\u001b[0;34m(\u001b[0m\u001b[0;34mf'{i+1}.- {lista[(i)]}'\u001b[0m\u001b[0;34m)\u001b[0m\u001b[0;34m\u001b[0m\u001b[0;34m\u001b[0m\u001b[0m\n\u001b[1;32m     13\u001b[0m         \u001b[0mi\u001b[0m\u001b[0;34m+=\u001b[0m\u001b[0;36m1\u001b[0m\u001b[0;34m\u001b[0m\u001b[0;34m\u001b[0m\u001b[0m\n\u001b[0;32m---> 14\u001b[0;31m       \u001b[0mopcion\u001b[0m \u001b[0;34m=\u001b[0m \u001b[0mint\u001b[0m\u001b[0;34m(\u001b[0m\u001b[0minput\u001b[0m\u001b[0;34m(\u001b[0m\u001b[0;34m'Ingrese el número de la opción a elegir:'\u001b[0m\u001b[0;34m)\u001b[0m\u001b[0;34m)\u001b[0m\u001b[0;34m\u001b[0m\u001b[0;34m\u001b[0m\u001b[0m\n\u001b[0m\u001b[1;32m     15\u001b[0m       \u001b[0;32mif\u001b[0m \u001b[0mopcion\u001b[0m \u001b[0;34m==\u001b[0m \u001b[0;36m5\u001b[0m\u001b[0;34m:\u001b[0m\u001b[0;34m\u001b[0m\u001b[0;34m\u001b[0m\u001b[0m\n\u001b[1;32m     16\u001b[0m         \u001b[0msalir\u001b[0m\u001b[0;34m(\u001b[0m\u001b[0;34m)\u001b[0m\u001b[0;34m\u001b[0m\u001b[0;34m\u001b[0m\u001b[0m\n",
            "\u001b[0;32m/usr/local/lib/python3.10/dist-packages/ipykernel/kernelbase.py\u001b[0m in \u001b[0;36mraw_input\u001b[0;34m(self, prompt)\u001b[0m\n\u001b[1;32m    849\u001b[0m                 \u001b[0;34m\"raw_input was called, but this frontend does not support input requests.\"\u001b[0m\u001b[0;34m\u001b[0m\u001b[0;34m\u001b[0m\u001b[0m\n\u001b[1;32m    850\u001b[0m             )\n\u001b[0;32m--> 851\u001b[0;31m         return self._input_request(str(prompt),\n\u001b[0m\u001b[1;32m    852\u001b[0m             \u001b[0mself\u001b[0m\u001b[0;34m.\u001b[0m\u001b[0m_parent_ident\u001b[0m\u001b[0;34m,\u001b[0m\u001b[0;34m\u001b[0m\u001b[0;34m\u001b[0m\u001b[0m\n\u001b[1;32m    853\u001b[0m             \u001b[0mself\u001b[0m\u001b[0;34m.\u001b[0m\u001b[0m_parent_header\u001b[0m\u001b[0;34m,\u001b[0m\u001b[0;34m\u001b[0m\u001b[0;34m\u001b[0m\u001b[0m\n",
            "\u001b[0;32m/usr/local/lib/python3.10/dist-packages/ipykernel/kernelbase.py\u001b[0m in \u001b[0;36m_input_request\u001b[0;34m(self, prompt, ident, parent, password)\u001b[0m\n\u001b[1;32m    893\u001b[0m             \u001b[0;32mexcept\u001b[0m \u001b[0mKeyboardInterrupt\u001b[0m\u001b[0;34m:\u001b[0m\u001b[0;34m\u001b[0m\u001b[0;34m\u001b[0m\u001b[0m\n\u001b[1;32m    894\u001b[0m                 \u001b[0;31m# re-raise KeyboardInterrupt, to truncate traceback\u001b[0m\u001b[0;34m\u001b[0m\u001b[0;34m\u001b[0m\u001b[0m\n\u001b[0;32m--> 895\u001b[0;31m                 \u001b[0;32mraise\u001b[0m \u001b[0mKeyboardInterrupt\u001b[0m\u001b[0;34m(\u001b[0m\u001b[0;34m\"Interrupted by user\"\u001b[0m\u001b[0;34m)\u001b[0m \u001b[0;32mfrom\u001b[0m \u001b[0;32mNone\u001b[0m\u001b[0;34m\u001b[0m\u001b[0;34m\u001b[0m\u001b[0m\n\u001b[0m\u001b[1;32m    896\u001b[0m             \u001b[0;32mexcept\u001b[0m \u001b[0mException\u001b[0m \u001b[0;32mas\u001b[0m \u001b[0me\u001b[0m\u001b[0;34m:\u001b[0m\u001b[0;34m\u001b[0m\u001b[0;34m\u001b[0m\u001b[0m\n\u001b[1;32m    897\u001b[0m                 \u001b[0mself\u001b[0m\u001b[0;34m.\u001b[0m\u001b[0mlog\u001b[0m\u001b[0;34m.\u001b[0m\u001b[0mwarning\u001b[0m\u001b[0;34m(\u001b[0m\u001b[0;34m\"Invalid Message:\"\u001b[0m\u001b[0;34m,\u001b[0m \u001b[0mexc_info\u001b[0m\u001b[0;34m=\u001b[0m\u001b[0;32mTrue\u001b[0m\u001b[0;34m)\u001b[0m\u001b[0;34m\u001b[0m\u001b[0;34m\u001b[0m\u001b[0m\n",
            "\u001b[0;31mKeyboardInterrupt\u001b[0m: Interrupted by user"
          ]
        }
      ]
    }
  ]
}